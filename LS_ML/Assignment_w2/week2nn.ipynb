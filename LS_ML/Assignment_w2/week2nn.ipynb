{
  "nbformat": 4,
  "nbformat_minor": 0,
  "metadata": {
    "colab": {
      "provenance": [],
      "authorship_tag": "ABX9TyMyueirXbCYcJpyTRY55JRI",
      "include_colab_link": true
    },
    "kernelspec": {
      "name": "python3",
      "display_name": "Python 3"
    },
    "language_info": {
      "name": "python"
    }
  },
  "cells": [
    {
      "cell_type": "markdown",
      "metadata": {
        "id": "view-in-github",
        "colab_type": "text"
      },
      "source": [
        "<a href=\"https://colab.research.google.com/github/adwait16-obj/LS_ML/blob/main/LS_ML/Assignment_w2/week2nn.ipynb\" target=\"_parent\"><img src=\"https://colab.research.google.com/assets/colab-badge.svg\" alt=\"Open In Colab\"/></a>"
      ]
    },
    {
      "cell_type": "code",
      "source": [
        "import numpy as np\n",
        "import matplotlib.pyplot as plt\n",
        "import tensorflow as tf\n",
        "from tensorflow.keras.models import Sequential\n",
        "from tensorflow.keras.layers import Dense, Flatten, BatchNormalization\n",
        "from tensorflow.keras.optimizers import Adam\n",
        "from tensorflow.keras.losses import BinaryCrossentropy\n",
        "\n"
      ],
      "metadata": {
        "id": "dVJXr_ikuTXn"
      },
      "execution_count": null,
      "outputs": []
    },
    {
      "cell_type": "code",
      "source": [
        "data =tf.keras.utils.image_dataset_from_directory('/content/drive/MyDrive/homer_bart',batch_size=32,image_size=(64,64))\n",
        "data=data.map(lambda x,y:(x/255,y))\n"
      ],
      "metadata": {
        "id": "6J9xsiixIa3k",
        "colab": {
          "base_uri": "https://localhost:8080/"
        },
        "outputId": "995a4169-c7a8-4039-84fd-88d8efe05eb0"
      },
      "execution_count": null,
      "outputs": [
        {
          "output_type": "stream",
          "name": "stdout",
          "text": [
            "Found 269 files belonging to 2 classes.\n"
          ]
        }
      ]
    },
    {
      "cell_type": "code",
      "source": [
        "train_size = int(len(data)*0.9)\n",
        "test_size = int(len(data)*0.1)+1\n",
        "\n",
        "\n",
        "\n"
      ],
      "metadata": {
        "id": "gbWr8lBwOowQ",
        "colab": {
          "base_uri": "https://localhost:8080/",
          "height": 207
        },
        "outputId": "14b73f84-65cc-491e-c5a1-553ec98bcd34"
      },
      "execution_count": null,
      "outputs": [
        {
          "output_type": "error",
          "ename": "NameError",
          "evalue": "name 'data' is not defined",
          "traceback": [
            "\u001b[0;31m---------------------------------------------------------------------------\u001b[0m",
            "\u001b[0;31mNameError\u001b[0m                                 Traceback (most recent call last)",
            "\u001b[0;32m<ipython-input-3-5b43cb891ca0>\u001b[0m in \u001b[0;36m<cell line: 1>\u001b[0;34m()\u001b[0m\n\u001b[0;32m----> 1\u001b[0;31m \u001b[0mtrain_size\u001b[0m \u001b[0;34m=\u001b[0m \u001b[0mint\u001b[0m\u001b[0;34m(\u001b[0m\u001b[0mlen\u001b[0m\u001b[0;34m(\u001b[0m\u001b[0mdata\u001b[0m\u001b[0;34m)\u001b[0m\u001b[0;34m*\u001b[0m\u001b[0;36m0.9\u001b[0m\u001b[0;34m)\u001b[0m\u001b[0;34m\u001b[0m\u001b[0;34m\u001b[0m\u001b[0m\n\u001b[0m\u001b[1;32m      2\u001b[0m \u001b[0mtest_size\u001b[0m \u001b[0;34m=\u001b[0m \u001b[0mint\u001b[0m\u001b[0;34m(\u001b[0m\u001b[0mlen\u001b[0m\u001b[0;34m(\u001b[0m\u001b[0mdata\u001b[0m\u001b[0;34m)\u001b[0m\u001b[0;34m*\u001b[0m\u001b[0;36m0.1\u001b[0m\u001b[0;34m)\u001b[0m\u001b[0;34m+\u001b[0m\u001b[0;36m1\u001b[0m\u001b[0;34m\u001b[0m\u001b[0;34m\u001b[0m\u001b[0m\n\u001b[1;32m      3\u001b[0m \u001b[0;34m\u001b[0m\u001b[0m\n\u001b[1;32m      4\u001b[0m \u001b[0;34m\u001b[0m\u001b[0m\n\u001b[1;32m      5\u001b[0m \u001b[0;34m\u001b[0m\u001b[0m\n",
            "\u001b[0;31mNameError\u001b[0m: name 'data' is not defined"
          ]
        }
      ]
    },
    {
      "cell_type": "code",
      "source": [
        "data_iterator=data.as_numpy_iterator()\n",
        "batch=data_iterator.next()\n",
        "#test=x_test.as_numpy_iterator()\n",
        "#batch_test=test.next()\n",
        "\n",
        "x_train = data.take(train_size)\n",
        "x_test = data.skip(train_size).take(test_size)\n"
      ],
      "metadata": {
        "id": "RSyCR_G8P5Iu"
      },
      "execution_count": null,
      "outputs": []
    },
    {
      "cell_type": "code",
      "source": [
        "model = Sequential([\n",
        "    Flatten(input_shape=(64,64,3)),\n",
        "    Dense(128, activation='relu'),\n",
        "    Dense(64, activation='relu'),\n",
        "    Dense(32, activation='relu', ),\n",
        "    BatchNormalization(axis=1),\n",
        "    Dense(1, activation='sigmoid')\n",
        "])\n",
        "\n",
        "model.compile(optimizer=Adam(), loss=BinaryCrossentropy(), metrics=['Accuracy'])\n",
        "\n",
        "model.fit(x_train, epochs=30)\n",
        "\n",
        "test_loss, test_acc = model.evaluate(x_test)\n",
        "\n",
        "print(f'Test accuracy: {test_acc}')"
      ],
      "metadata": {
        "id": "iAnMZDdTnhB6",
        "colab": {
          "base_uri": "https://localhost:8080/"
        },
        "outputId": "527e9eee-3610-4231-c819-527869c07b51"
      },
      "execution_count": null,
      "outputs": [
        {
          "output_type": "stream",
          "name": "stdout",
          "text": [
            "Epoch 1/30\n",
            "8/8 [==============================] - 3s 23ms/step - loss: 0.7060 - Accuracy: 0.6406\n",
            "Epoch 2/30\n",
            "8/8 [==============================] - 2s 23ms/step - loss: 0.3972 - Accuracy: 0.8398\n",
            "Epoch 3/30\n",
            "8/8 [==============================] - 2s 24ms/step - loss: 0.3483 - Accuracy: 0.8789\n",
            "Epoch 4/30\n",
            "8/8 [==============================] - 2s 27ms/step - loss: 0.2776 - Accuracy: 0.9297\n",
            "Epoch 5/30\n",
            "8/8 [==============================] - 2s 24ms/step - loss: 0.2235 - Accuracy: 0.9492\n",
            "Epoch 6/30\n",
            "8/8 [==============================] - 2s 47ms/step - loss: 0.1903 - Accuracy: 0.9727\n",
            "Epoch 7/30\n",
            "8/8 [==============================] - 2s 42ms/step - loss: 0.1365 - Accuracy: 0.9922\n",
            "Epoch 8/30\n",
            "8/8 [==============================] - 2s 35ms/step - loss: 0.1101 - Accuracy: 0.9961\n",
            "Epoch 9/30\n",
            "8/8 [==============================] - 2s 24ms/step - loss: 0.0930 - Accuracy: 1.0000\n",
            "Epoch 10/30\n",
            "8/8 [==============================] - 2s 31ms/step - loss: 0.0705 - Accuracy: 1.0000\n",
            "Epoch 11/30\n",
            "8/8 [==============================] - 2s 32ms/step - loss: 0.0507 - Accuracy: 1.0000\n",
            "Epoch 12/30\n",
            "8/8 [==============================] - 2s 24ms/step - loss: 0.0428 - Accuracy: 1.0000\n",
            "Epoch 13/30\n",
            "8/8 [==============================] - 2s 32ms/step - loss: 0.0439 - Accuracy: 1.0000\n",
            "Epoch 14/30\n",
            "8/8 [==============================] - 2s 37ms/step - loss: 0.0352 - Accuracy: 1.0000\n",
            "Epoch 15/30\n",
            "8/8 [==============================] - 2s 22ms/step - loss: 0.0318 - Accuracy: 1.0000\n",
            "Epoch 16/30\n",
            "8/8 [==============================] - 2s 31ms/step - loss: 0.0261 - Accuracy: 1.0000\n",
            "Epoch 17/30\n",
            "8/8 [==============================] - 2s 30ms/step - loss: 0.0199 - Accuracy: 1.0000\n",
            "Epoch 18/30\n",
            "8/8 [==============================] - 2s 22ms/step - loss: 0.0179 - Accuracy: 1.0000\n",
            "Epoch 19/30\n",
            "8/8 [==============================] - 2s 27ms/step - loss: 0.0146 - Accuracy: 1.0000\n",
            "Epoch 20/30\n",
            "8/8 [==============================] - 2s 25ms/step - loss: 0.0140 - Accuracy: 1.0000\n",
            "Epoch 21/30\n",
            "8/8 [==============================] - 2s 42ms/step - loss: 0.0160 - Accuracy: 1.0000\n",
            "Epoch 22/30\n",
            "8/8 [==============================] - 2s 40ms/step - loss: 0.0143 - Accuracy: 1.0000\n",
            "Epoch 23/30\n",
            "8/8 [==============================] - 2s 31ms/step - loss: 0.0114 - Accuracy: 1.0000\n",
            "Epoch 24/30\n",
            "8/8 [==============================] - 2s 24ms/step - loss: 0.0142 - Accuracy: 1.0000\n",
            "Epoch 25/30\n",
            "8/8 [==============================] - 2s 23ms/step - loss: 0.0119 - Accuracy: 1.0000\n",
            "Epoch 26/30\n",
            "8/8 [==============================] - 2s 24ms/step - loss: 0.0107 - Accuracy: 1.0000\n",
            "Epoch 27/30\n",
            "8/8 [==============================] - 2s 22ms/step - loss: 0.0115 - Accuracy: 1.0000\n",
            "Epoch 28/30\n",
            "8/8 [==============================] - 2s 31ms/step - loss: 0.0068 - Accuracy: 1.0000\n",
            "Epoch 29/30\n",
            "8/8 [==============================] - 2s 44ms/step - loss: 0.0098 - Accuracy: 1.0000\n",
            "Epoch 30/30\n",
            "8/8 [==============================] - 2s 38ms/step - loss: 0.0084 - Accuracy: 1.0000\n",
            "1/1 [==============================] - 2s 2s/step - loss: 0.0134 - Accuracy: 1.0000\n",
            "Test accuracy: 1.0\n"
          ]
        }
      ]
    }
  ]
}